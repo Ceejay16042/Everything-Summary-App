{
  "cells": [
    {
      "cell_type": "code",
      "execution_count": null,
      "metadata": {
        "colab": {
          "base_uri": "https://localhost:8080/"
        },
        "id": "e_wLFUo-f8_K",
        "outputId": "4e75a06e-573c-42f1-9323-8f3aac3133a3"
      },
      "outputs": [
        {
          "output_type": "stream",
          "name": "stdout",
          "text": [
            "Collecting streamlit\n",
            "  Downloading streamlit-1.30.0-py2.py3-none-any.whl (8.4 MB)\n",
            "\u001b[2K     \u001b[90m━━━━━━━━━━━━━━━━━━━━━━━━━━━━━━━━━━━━━━━━\u001b[0m \u001b[32m8.4/8.4 MB\u001b[0m \u001b[31m48.3 MB/s\u001b[0m eta \u001b[36m0:00:00\u001b[0m\n",
            "\u001b[?25hRequirement already satisfied: altair<6,>=4.0 in /usr/local/lib/python3.10/dist-packages (from streamlit) (4.2.2)\n",
            "Requirement already satisfied: blinker<2,>=1.0.0 in /usr/lib/python3/dist-packages (from streamlit) (1.4)\n",
            "Requirement already satisfied: cachetools<6,>=4.0 in /usr/local/lib/python3.10/dist-packages (from streamlit) (5.3.2)\n",
            "Requirement already satisfied: click<9,>=7.0 in /usr/local/lib/python3.10/dist-packages (from streamlit) (8.1.7)\n",
            "Requirement already satisfied: importlib-metadata<8,>=1.4 in /usr/local/lib/python3.10/dist-packages (from streamlit) (7.0.1)\n",
            "Requirement already satisfied: numpy<2,>=1.19.3 in /usr/local/lib/python3.10/dist-packages (from streamlit) (1.23.5)\n",
            "Requirement already satisfied: packaging<24,>=16.8 in /usr/local/lib/python3.10/dist-packages (from streamlit) (23.2)\n",
            "Requirement already satisfied: pandas<3,>=1.3.0 in /usr/local/lib/python3.10/dist-packages (from streamlit) (1.5.3)\n",
            "Requirement already satisfied: pillow<11,>=7.1.0 in /usr/local/lib/python3.10/dist-packages (from streamlit) (9.4.0)\n",
            "Requirement already satisfied: protobuf<5,>=3.20 in /usr/local/lib/python3.10/dist-packages (from streamlit) (3.20.3)\n",
            "Requirement already satisfied: pyarrow>=6.0 in /usr/local/lib/python3.10/dist-packages (from streamlit) (10.0.1)\n",
            "Requirement already satisfied: python-dateutil<3,>=2.7.3 in /usr/local/lib/python3.10/dist-packages (from streamlit) (2.8.2)\n",
            "Requirement already satisfied: requests<3,>=2.27 in /usr/local/lib/python3.10/dist-packages (from streamlit) (2.31.0)\n",
            "Requirement already satisfied: rich<14,>=10.14.0 in /usr/local/lib/python3.10/dist-packages (from streamlit) (13.7.0)\n",
            "Requirement already satisfied: tenacity<9,>=8.1.0 in /usr/local/lib/python3.10/dist-packages (from streamlit) (8.2.3)\n",
            "Requirement already satisfied: toml<2,>=0.10.1 in /usr/local/lib/python3.10/dist-packages (from streamlit) (0.10.2)\n",
            "Requirement already satisfied: typing-extensions<5,>=4.3.0 in /usr/local/lib/python3.10/dist-packages (from streamlit) (4.5.0)\n",
            "Requirement already satisfied: tzlocal<6,>=1.1 in /usr/local/lib/python3.10/dist-packages (from streamlit) (5.2)\n",
            "Collecting validators<1,>=0.2 (from streamlit)\n",
            "  Downloading validators-0.22.0-py3-none-any.whl (26 kB)\n",
            "Collecting gitpython!=3.1.19,<4,>=3.0.7 (from streamlit)\n",
            "  Downloading GitPython-3.1.41-py3-none-any.whl (196 kB)\n",
            "\u001b[2K     \u001b[90m━━━━━━━━━━━━━━━━━━━━━━━━━━━━━━━━━━━━━━━━\u001b[0m \u001b[32m196.4/196.4 kB\u001b[0m \u001b[31m27.1 MB/s\u001b[0m eta \u001b[36m0:00:00\u001b[0m\n",
            "\u001b[?25hCollecting pydeck<1,>=0.8.0b4 (from streamlit)\n",
            "  Downloading pydeck-0.8.1b0-py2.py3-none-any.whl (4.8 MB)\n",
            "\u001b[2K     \u001b[90m━━━━━━━━━━━━━━━━━━━━━━━━━━━━━━━━━━━━━━━━\u001b[0m \u001b[32m4.8/4.8 MB\u001b[0m \u001b[31m60.4 MB/s\u001b[0m eta \u001b[36m0:00:00\u001b[0m\n",
            "\u001b[?25hRequirement already satisfied: tornado<7,>=6.0.3 in /usr/local/lib/python3.10/dist-packages (from streamlit) (6.3.2)\n",
            "Collecting watchdog>=2.1.5 (from streamlit)\n",
            "  Downloading watchdog-3.0.0-py3-none-manylinux2014_x86_64.whl (82 kB)\n",
            "\u001b[2K     \u001b[90m━━━━━━━━━━━━━━━━━━━━━━━━━━━━━━━━━━━━━━━━\u001b[0m \u001b[32m82.1/82.1 kB\u001b[0m \u001b[31m11.2 MB/s\u001b[0m eta \u001b[36m0:00:00\u001b[0m\n",
            "\u001b[?25hRequirement already satisfied: entrypoints in /usr/local/lib/python3.10/dist-packages (from altair<6,>=4.0->streamlit) (0.4)\n",
            "Requirement already satisfied: jinja2 in /usr/local/lib/python3.10/dist-packages (from altair<6,>=4.0->streamlit) (3.1.3)\n",
            "Requirement already satisfied: jsonschema>=3.0 in /usr/local/lib/python3.10/dist-packages (from altair<6,>=4.0->streamlit) (4.19.2)\n",
            "Requirement already satisfied: toolz in /usr/local/lib/python3.10/dist-packages (from altair<6,>=4.0->streamlit) (0.12.0)\n",
            "Collecting gitdb<5,>=4.0.1 (from gitpython!=3.1.19,<4,>=3.0.7->streamlit)\n",
            "  Downloading gitdb-4.0.11-py3-none-any.whl (62 kB)\n",
            "\u001b[2K     \u001b[90m━━━━━━━━━━━━━━━━━━━━━━━━━━━━━━━━━━━━━━━━\u001b[0m \u001b[32m62.7/62.7 kB\u001b[0m \u001b[31m8.8 MB/s\u001b[0m eta \u001b[36m0:00:00\u001b[0m\n",
            "\u001b[?25hRequirement already satisfied: zipp>=0.5 in /usr/local/lib/python3.10/dist-packages (from importlib-metadata<8,>=1.4->streamlit) (3.17.0)\n",
            "Requirement already satisfied: pytz>=2020.1 in /usr/local/lib/python3.10/dist-packages (from pandas<3,>=1.3.0->streamlit) (2023.3.post1)\n",
            "Requirement already satisfied: six>=1.5 in /usr/local/lib/python3.10/dist-packages (from python-dateutil<3,>=2.7.3->streamlit) (1.16.0)\n",
            "Requirement already satisfied: charset-normalizer<4,>=2 in /usr/local/lib/python3.10/dist-packages (from requests<3,>=2.27->streamlit) (3.3.2)\n",
            "Requirement already satisfied: idna<4,>=2.5 in /usr/local/lib/python3.10/dist-packages (from requests<3,>=2.27->streamlit) (3.6)\n",
            "Requirement already satisfied: urllib3<3,>=1.21.1 in /usr/local/lib/python3.10/dist-packages (from requests<3,>=2.27->streamlit) (2.0.7)\n",
            "Requirement already satisfied: certifi>=2017.4.17 in /usr/local/lib/python3.10/dist-packages (from requests<3,>=2.27->streamlit) (2023.11.17)\n",
            "Requirement already satisfied: markdown-it-py>=2.2.0 in /usr/local/lib/python3.10/dist-packages (from rich<14,>=10.14.0->streamlit) (3.0.0)\n",
            "Requirement already satisfied: pygments<3.0.0,>=2.13.0 in /usr/local/lib/python3.10/dist-packages (from rich<14,>=10.14.0->streamlit) (2.16.1)\n",
            "Collecting smmap<6,>=3.0.1 (from gitdb<5,>=4.0.1->gitpython!=3.1.19,<4,>=3.0.7->streamlit)\n",
            "  Downloading smmap-5.0.1-py3-none-any.whl (24 kB)\n",
            "Requirement already satisfied: MarkupSafe>=2.0 in /usr/local/lib/python3.10/dist-packages (from jinja2->altair<6,>=4.0->streamlit) (2.1.4)\n",
            "Requirement already satisfied: attrs>=22.2.0 in /usr/local/lib/python3.10/dist-packages (from jsonschema>=3.0->altair<6,>=4.0->streamlit) (23.2.0)\n",
            "Requirement already satisfied: jsonschema-specifications>=2023.03.6 in /usr/local/lib/python3.10/dist-packages (from jsonschema>=3.0->altair<6,>=4.0->streamlit) (2023.12.1)\n",
            "Requirement already satisfied: referencing>=0.28.4 in /usr/local/lib/python3.10/dist-packages (from jsonschema>=3.0->altair<6,>=4.0->streamlit) (0.32.1)\n",
            "Requirement already satisfied: rpds-py>=0.7.1 in /usr/local/lib/python3.10/dist-packages (from jsonschema>=3.0->altair<6,>=4.0->streamlit) (0.17.1)\n",
            "Requirement already satisfied: mdurl~=0.1 in /usr/local/lib/python3.10/dist-packages (from markdown-it-py>=2.2.0->rich<14,>=10.14.0->streamlit) (0.1.2)\n",
            "Installing collected packages: watchdog, validators, smmap, pydeck, gitdb, gitpython, streamlit\n",
            "Successfully installed gitdb-4.0.11 gitpython-3.1.41 pydeck-0.8.1b0 smmap-5.0.1 streamlit-1.30.0 validators-0.22.0 watchdog-3.0.0\n"
          ]
        }
      ],
      "source": [
        "!pip install streamlit\n"
      ]
    },
    {
      "cell_type": "code",
      "execution_count": null,
      "metadata": {
        "colab": {
          "base_uri": "https://localhost:8080/"
        },
        "id": "rhz_1AtgwP7o",
        "outputId": "9bc0325c-3a05-433e-e581-e5827578cfd7"
      },
      "outputs": [
        {
          "output_type": "stream",
          "name": "stdout",
          "text": [
            "Collecting accelerate\n",
            "  Downloading accelerate-0.26.1-py3-none-any.whl (270 kB)\n",
            "\u001b[?25l     \u001b[90m━━━━━━━━━━━━━━━━━━━━━━━━━━━━━━━━━━━━━━━━\u001b[0m \u001b[32m0.0/270.9 kB\u001b[0m \u001b[31m?\u001b[0m eta \u001b[36m-:--:--\u001b[0m\r\u001b[2K     \u001b[91m━━━━━━━━━━━━━━━━━━━━━━━━━━━━━━━━━━━━━━━\u001b[0m\u001b[90m╺\u001b[0m \u001b[32m266.2/270.9 kB\u001b[0m \u001b[31m7.8 MB/s\u001b[0m eta \u001b[36m0:00:01\u001b[0m\r\u001b[2K     \u001b[90m━━━━━━━━━━━━━━━━━━━━━━━━━━━━━━━━━━━━━━━━\u001b[0m \u001b[32m270.9/270.9 kB\u001b[0m \u001b[31m6.2 MB/s\u001b[0m eta \u001b[36m0:00:00\u001b[0m\n",
            "\u001b[?25hRequirement already satisfied: numpy>=1.17 in /usr/local/lib/python3.10/dist-packages (from accelerate) (1.23.5)\n",
            "Requirement already satisfied: packaging>=20.0 in /usr/local/lib/python3.10/dist-packages (from accelerate) (23.2)\n",
            "Requirement already satisfied: psutil in /usr/local/lib/python3.10/dist-packages (from accelerate) (5.9.5)\n",
            "Requirement already satisfied: pyyaml in /usr/local/lib/python3.10/dist-packages (from accelerate) (6.0.1)\n",
            "Requirement already satisfied: torch>=1.10.0 in /usr/local/lib/python3.10/dist-packages (from accelerate) (2.1.0+cu121)\n",
            "Requirement already satisfied: huggingface-hub in /usr/local/lib/python3.10/dist-packages (from accelerate) (0.20.3)\n",
            "Requirement already satisfied: safetensors>=0.3.1 in /usr/local/lib/python3.10/dist-packages (from accelerate) (0.4.1)\n",
            "Requirement already satisfied: filelock in /usr/local/lib/python3.10/dist-packages (from torch>=1.10.0->accelerate) (3.13.1)\n",
            "Requirement already satisfied: typing-extensions in /usr/local/lib/python3.10/dist-packages (from torch>=1.10.0->accelerate) (4.5.0)\n",
            "Requirement already satisfied: sympy in /usr/local/lib/python3.10/dist-packages (from torch>=1.10.0->accelerate) (1.12)\n",
            "Requirement already satisfied: networkx in /usr/local/lib/python3.10/dist-packages (from torch>=1.10.0->accelerate) (3.2.1)\n",
            "Requirement already satisfied: jinja2 in /usr/local/lib/python3.10/dist-packages (from torch>=1.10.0->accelerate) (3.1.3)\n",
            "Requirement already satisfied: fsspec in /usr/local/lib/python3.10/dist-packages (from torch>=1.10.0->accelerate) (2023.6.0)\n",
            "Requirement already satisfied: triton==2.1.0 in /usr/local/lib/python3.10/dist-packages (from torch>=1.10.0->accelerate) (2.1.0)\n",
            "Requirement already satisfied: requests in /usr/local/lib/python3.10/dist-packages (from huggingface-hub->accelerate) (2.31.0)\n",
            "Requirement already satisfied: tqdm>=4.42.1 in /usr/local/lib/python3.10/dist-packages (from huggingface-hub->accelerate) (4.66.1)\n",
            "Requirement already satisfied: MarkupSafe>=2.0 in /usr/local/lib/python3.10/dist-packages (from jinja2->torch>=1.10.0->accelerate) (2.1.4)\n",
            "Requirement already satisfied: charset-normalizer<4,>=2 in /usr/local/lib/python3.10/dist-packages (from requests->huggingface-hub->accelerate) (3.3.2)\n",
            "Requirement already satisfied: idna<4,>=2.5 in /usr/local/lib/python3.10/dist-packages (from requests->huggingface-hub->accelerate) (3.6)\n",
            "Requirement already satisfied: urllib3<3,>=1.21.1 in /usr/local/lib/python3.10/dist-packages (from requests->huggingface-hub->accelerate) (2.0.7)\n",
            "Requirement already satisfied: certifi>=2017.4.17 in /usr/local/lib/python3.10/dist-packages (from requests->huggingface-hub->accelerate) (2023.11.17)\n",
            "Requirement already satisfied: mpmath>=0.19 in /usr/local/lib/python3.10/dist-packages (from sympy->torch>=1.10.0->accelerate) (1.3.0)\n",
            "Installing collected packages: accelerate\n",
            "Successfully installed accelerate-0.26.1\n"
          ]
        }
      ],
      "source": [
        "pip install accelerate"
      ]
    },
    {
      "cell_type": "code",
      "execution_count": null,
      "metadata": {
        "colab": {
          "base_uri": "https://localhost:8080/"
        },
        "id": "C7iDCqIXMhQW",
        "outputId": "54739eda-dabd-45ce-d8d0-87b140c59574"
      },
      "outputs": [
        {
          "output_type": "stream",
          "name": "stdout",
          "text": [
            "Requirement already satisfied: transformers in /usr/local/lib/python3.10/dist-packages (4.35.2)\n",
            "Requirement already satisfied: filelock in /usr/local/lib/python3.10/dist-packages (from transformers) (3.13.1)\n",
            "Requirement already satisfied: huggingface-hub<1.0,>=0.16.4 in /usr/local/lib/python3.10/dist-packages (from transformers) (0.20.3)\n",
            "Requirement already satisfied: numpy>=1.17 in /usr/local/lib/python3.10/dist-packages (from transformers) (1.23.5)\n",
            "Requirement already satisfied: packaging>=20.0 in /usr/local/lib/python3.10/dist-packages (from transformers) (23.2)\n",
            "Requirement already satisfied: pyyaml>=5.1 in /usr/local/lib/python3.10/dist-packages (from transformers) (6.0.1)\n",
            "Requirement already satisfied: regex!=2019.12.17 in /usr/local/lib/python3.10/dist-packages (from transformers) (2023.6.3)\n",
            "Requirement already satisfied: requests in /usr/local/lib/python3.10/dist-packages (from transformers) (2.31.0)\n",
            "Requirement already satisfied: tokenizers<0.19,>=0.14 in /usr/local/lib/python3.10/dist-packages (from transformers) (0.15.1)\n",
            "Requirement already satisfied: safetensors>=0.3.1 in /usr/local/lib/python3.10/dist-packages (from transformers) (0.4.1)\n",
            "Requirement already satisfied: tqdm>=4.27 in /usr/local/lib/python3.10/dist-packages (from transformers) (4.66.1)\n",
            "Requirement already satisfied: fsspec>=2023.5.0 in /usr/local/lib/python3.10/dist-packages (from huggingface-hub<1.0,>=0.16.4->transformers) (2023.6.0)\n",
            "Requirement already satisfied: typing-extensions>=3.7.4.3 in /usr/local/lib/python3.10/dist-packages (from huggingface-hub<1.0,>=0.16.4->transformers) (4.5.0)\n",
            "Requirement already satisfied: charset-normalizer<4,>=2 in /usr/local/lib/python3.10/dist-packages (from requests->transformers) (3.3.2)\n",
            "Requirement already satisfied: idna<4,>=2.5 in /usr/local/lib/python3.10/dist-packages (from requests->transformers) (3.6)\n",
            "Requirement already satisfied: urllib3<3,>=1.21.1 in /usr/local/lib/python3.10/dist-packages (from requests->transformers) (2.0.7)\n",
            "Requirement already satisfied: certifi>=2017.4.17 in /usr/local/lib/python3.10/dist-packages (from requests->transformers) (2023.11.17)\n"
          ]
        }
      ],
      "source": [
        "pip install transformers"
      ]
    },
    {
      "cell_type": "code",
      "execution_count": null,
      "metadata": {
        "colab": {
          "base_uri": "https://localhost:8080/"
        },
        "id": "VW0ABVmBqE2O",
        "outputId": "7827cd61-6c52-4a94-f7b6-6ca8f6918994"
      },
      "outputs": [
        {
          "output_type": "stream",
          "name": "stdout",
          "text": [
            "Collecting langchain\n",
            "  Downloading langchain-0.1.4-py3-none-any.whl (803 kB)\n",
            "\u001b[?25l     \u001b[90m━━━━━━━━━━━━━━━━━━━━━━━━━━━━━━━━━━━━━━━━\u001b[0m \u001b[32m0.0/803.6 kB\u001b[0m \u001b[31m?\u001b[0m eta \u001b[36m-:--:--\u001b[0m\r\u001b[2K     \u001b[91m━━━━━━━━━━━━━━━━━━━━━━━━━\u001b[0m\u001b[90m╺\u001b[0m\u001b[90m━━━━━━━━━━━━━━\u001b[0m \u001b[32m512.0/803.6 kB\u001b[0m \u001b[31m15.2 MB/s\u001b[0m eta \u001b[36m0:00:01\u001b[0m\r\u001b[2K     \u001b[90m━━━━━━━━━━━━━━━━━━━━━━━━━━━━━━━━━━━━━━━━\u001b[0m \u001b[32m803.6/803.6 kB\u001b[0m \u001b[31m16.4 MB/s\u001b[0m eta \u001b[36m0:00:00\u001b[0m\n",
            "\u001b[?25hRequirement already satisfied: PyYAML>=5.3 in /usr/local/lib/python3.10/dist-packages (from langchain) (6.0.1)\n",
            "Requirement already satisfied: SQLAlchemy<3,>=1.4 in /usr/local/lib/python3.10/dist-packages (from langchain) (2.0.24)\n",
            "Requirement already satisfied: aiohttp<4.0.0,>=3.8.3 in /usr/local/lib/python3.10/dist-packages (from langchain) (3.9.1)\n",
            "Requirement already satisfied: async-timeout<5.0.0,>=4.0.0 in /usr/local/lib/python3.10/dist-packages (from langchain) (4.0.3)\n",
            "Collecting dataclasses-json<0.7,>=0.5.7 (from langchain)\n",
            "  Downloading dataclasses_json-0.6.3-py3-none-any.whl (28 kB)\n",
            "Collecting jsonpatch<2.0,>=1.33 (from langchain)\n",
            "  Downloading jsonpatch-1.33-py2.py3-none-any.whl (12 kB)\n",
            "Collecting langchain-community<0.1,>=0.0.14 (from langchain)\n",
            "  Downloading langchain_community-0.0.16-py3-none-any.whl (1.6 MB)\n",
            "\u001b[2K     \u001b[90m━━━━━━━━━━━━━━━━━━━━━━━━━━━━━━━━━━━━━━━━\u001b[0m \u001b[32m1.6/1.6 MB\u001b[0m \u001b[31m57.6 MB/s\u001b[0m eta \u001b[36m0:00:00\u001b[0m\n",
            "\u001b[?25hCollecting langchain-core<0.2,>=0.1.16 (from langchain)\n",
            "  Downloading langchain_core-0.1.16-py3-none-any.whl (230 kB)\n",
            "\u001b[2K     \u001b[90m━━━━━━━━━━━━━━━━━━━━━━━━━━━━━━━━━━━━━━━━\u001b[0m \u001b[32m230.3/230.3 kB\u001b[0m \u001b[31m32.4 MB/s\u001b[0m eta \u001b[36m0:00:00\u001b[0m\n",
            "\u001b[?25hCollecting langsmith<0.1,>=0.0.83 (from langchain)\n",
            "  Downloading langsmith-0.0.83-py3-none-any.whl (49 kB)\n",
            "\u001b[2K     \u001b[90m━━━━━━━━━━━━━━━━━━━━━━━━━━━━━━━━━━━━━━━━\u001b[0m \u001b[32m49.3/49.3 kB\u001b[0m \u001b[31m7.8 MB/s\u001b[0m eta \u001b[36m0:00:00\u001b[0m\n",
            "\u001b[?25hRequirement already satisfied: numpy<2,>=1 in /usr/local/lib/python3.10/dist-packages (from langchain) (1.23.5)\n",
            "Requirement already satisfied: pydantic<3,>=1 in /usr/local/lib/python3.10/dist-packages (from langchain) (1.10.14)\n",
            "Requirement already satisfied: requests<3,>=2 in /usr/local/lib/python3.10/dist-packages (from langchain) (2.31.0)\n",
            "Requirement already satisfied: tenacity<9.0.0,>=8.1.0 in /usr/local/lib/python3.10/dist-packages (from langchain) (8.2.3)\n",
            "Requirement already satisfied: attrs>=17.3.0 in /usr/local/lib/python3.10/dist-packages (from aiohttp<4.0.0,>=3.8.3->langchain) (23.2.0)\n",
            "Requirement already satisfied: multidict<7.0,>=4.5 in /usr/local/lib/python3.10/dist-packages (from aiohttp<4.0.0,>=3.8.3->langchain) (6.0.4)\n",
            "Requirement already satisfied: yarl<2.0,>=1.0 in /usr/local/lib/python3.10/dist-packages (from aiohttp<4.0.0,>=3.8.3->langchain) (1.9.4)\n",
            "Requirement already satisfied: frozenlist>=1.1.1 in /usr/local/lib/python3.10/dist-packages (from aiohttp<4.0.0,>=3.8.3->langchain) (1.4.1)\n",
            "Requirement already satisfied: aiosignal>=1.1.2 in /usr/local/lib/python3.10/dist-packages (from aiohttp<4.0.0,>=3.8.3->langchain) (1.3.1)\n",
            "Collecting marshmallow<4.0.0,>=3.18.0 (from dataclasses-json<0.7,>=0.5.7->langchain)\n",
            "  Downloading marshmallow-3.20.2-py3-none-any.whl (49 kB)\n",
            "\u001b[2K     \u001b[90m━━━━━━━━━━━━━━━━━━━━━━━━━━━━━━━━━━━━━━━━\u001b[0m \u001b[32m49.4/49.4 kB\u001b[0m \u001b[31m7.4 MB/s\u001b[0m eta \u001b[36m0:00:00\u001b[0m\n",
            "\u001b[?25hCollecting typing-inspect<1,>=0.4.0 (from dataclasses-json<0.7,>=0.5.7->langchain)\n",
            "  Downloading typing_inspect-0.9.0-py3-none-any.whl (8.8 kB)\n",
            "Collecting jsonpointer>=1.9 (from jsonpatch<2.0,>=1.33->langchain)\n",
            "  Downloading jsonpointer-2.4-py2.py3-none-any.whl (7.8 kB)\n",
            "Requirement already satisfied: anyio<5,>=3 in /usr/local/lib/python3.10/dist-packages (from langchain-core<0.2,>=0.1.16->langchain) (3.7.1)\n",
            "Requirement already satisfied: packaging<24.0,>=23.2 in /usr/local/lib/python3.10/dist-packages (from langchain-core<0.2,>=0.1.16->langchain) (23.2)\n",
            "Requirement already satisfied: typing-extensions>=4.2.0 in /usr/local/lib/python3.10/dist-packages (from pydantic<3,>=1->langchain) (4.5.0)\n",
            "Requirement already satisfied: charset-normalizer<4,>=2 in /usr/local/lib/python3.10/dist-packages (from requests<3,>=2->langchain) (3.3.2)\n",
            "Requirement already satisfied: idna<4,>=2.5 in /usr/local/lib/python3.10/dist-packages (from requests<3,>=2->langchain) (3.6)\n",
            "Requirement already satisfied: urllib3<3,>=1.21.1 in /usr/local/lib/python3.10/dist-packages (from requests<3,>=2->langchain) (2.0.7)\n",
            "Requirement already satisfied: certifi>=2017.4.17 in /usr/local/lib/python3.10/dist-packages (from requests<3,>=2->langchain) (2023.11.17)\n",
            "Requirement already satisfied: greenlet!=0.4.17 in /usr/local/lib/python3.10/dist-packages (from SQLAlchemy<3,>=1.4->langchain) (3.0.3)\n",
            "Requirement already satisfied: sniffio>=1.1 in /usr/local/lib/python3.10/dist-packages (from anyio<5,>=3->langchain-core<0.2,>=0.1.16->langchain) (1.3.0)\n",
            "Requirement already satisfied: exceptiongroup in /usr/local/lib/python3.10/dist-packages (from anyio<5,>=3->langchain-core<0.2,>=0.1.16->langchain) (1.2.0)\n",
            "Collecting mypy-extensions>=0.3.0 (from typing-inspect<1,>=0.4.0->dataclasses-json<0.7,>=0.5.7->langchain)\n",
            "  Downloading mypy_extensions-1.0.0-py3-none-any.whl (4.7 kB)\n",
            "Installing collected packages: mypy-extensions, marshmallow, jsonpointer, typing-inspect, langsmith, jsonpatch, langchain-core, dataclasses-json, langchain-community, langchain\n",
            "Successfully installed dataclasses-json-0.6.3 jsonpatch-1.33 jsonpointer-2.4 langchain-0.1.4 langchain-community-0.0.16 langchain-core-0.1.16 langsmith-0.0.83 marshmallow-3.20.2 mypy-extensions-1.0.0 typing-inspect-0.9.0\n"
          ]
        }
      ],
      "source": [
        "!pip install langchain"
      ]
    },
    {
      "cell_type": "code",
      "execution_count": null,
      "metadata": {
        "colab": {
          "base_uri": "https://localhost:8080/"
        },
        "id": "Q1GyzS0BqOEp",
        "outputId": "edc78f3f-4260-4ac0-ad4a-4831e0a438d7"
      },
      "outputs": [
        {
          "output_type": "stream",
          "name": "stdout",
          "text": [
            "Collecting streamlit-option-menu\n",
            "  Downloading streamlit_option_menu-0.3.12-py3-none-any.whl (822 kB)\n",
            "\u001b[?25l     \u001b[90m━━━━━━━━━━━━━━━━━━━━━━━━━━━━━━━━━━━━━━━━\u001b[0m \u001b[32m0.0/822.1 kB\u001b[0m \u001b[31m?\u001b[0m eta \u001b[36m-:--:--\u001b[0m\r\u001b[2K     \u001b[91m━\u001b[0m\u001b[91m╸\u001b[0m\u001b[90m━━━━━━━━━━━━━━━━━━━━━━━━━━━━━━━━━━━━━━\u001b[0m \u001b[32m41.0/822.1 kB\u001b[0m \u001b[31m1.1 MB/s\u001b[0m eta \u001b[36m0:00:01\u001b[0m\r\u001b[2K     \u001b[91m━━━━━━━━━━━━━━━━━━━━━━━━━━\u001b[0m\u001b[90m╺\u001b[0m\u001b[90m━━━━━━━━━━━━━\u001b[0m \u001b[32m542.7/822.1 kB\u001b[0m \u001b[31m8.2 MB/s\u001b[0m eta \u001b[36m0:00:01\u001b[0m\r\u001b[2K     \u001b[90m━━━━━━━━━━━━━━━━━━━━━━━━━━━━━━━━━━━━━━━━\u001b[0m \u001b[32m822.1/822.1 kB\u001b[0m \u001b[31m10.3 MB/s\u001b[0m eta \u001b[36m0:00:00\u001b[0m\n",
            "\u001b[?25hRequirement already satisfied: streamlit>=0.63 in /usr/local/lib/python3.10/dist-packages (from streamlit-option-menu) (1.30.0)\n",
            "Requirement already satisfied: altair<6,>=4.0 in /usr/local/lib/python3.10/dist-packages (from streamlit>=0.63->streamlit-option-menu) (4.2.2)\n",
            "Requirement already satisfied: blinker<2,>=1.0.0 in /usr/lib/python3/dist-packages (from streamlit>=0.63->streamlit-option-menu) (1.4)\n",
            "Requirement already satisfied: cachetools<6,>=4.0 in /usr/local/lib/python3.10/dist-packages (from streamlit>=0.63->streamlit-option-menu) (5.3.2)\n",
            "Requirement already satisfied: click<9,>=7.0 in /usr/local/lib/python3.10/dist-packages (from streamlit>=0.63->streamlit-option-menu) (8.1.7)\n",
            "Requirement already satisfied: importlib-metadata<8,>=1.4 in /usr/local/lib/python3.10/dist-packages (from streamlit>=0.63->streamlit-option-menu) (7.0.1)\n",
            "Requirement already satisfied: numpy<2,>=1.19.3 in /usr/local/lib/python3.10/dist-packages (from streamlit>=0.63->streamlit-option-menu) (1.23.5)\n",
            "Requirement already satisfied: packaging<24,>=16.8 in /usr/local/lib/python3.10/dist-packages (from streamlit>=0.63->streamlit-option-menu) (23.2)\n",
            "Requirement already satisfied: pandas<3,>=1.3.0 in /usr/local/lib/python3.10/dist-packages (from streamlit>=0.63->streamlit-option-menu) (1.5.3)\n",
            "Requirement already satisfied: pillow<11,>=7.1.0 in /usr/local/lib/python3.10/dist-packages (from streamlit>=0.63->streamlit-option-menu) (9.4.0)\n",
            "Requirement already satisfied: protobuf<5,>=3.20 in /usr/local/lib/python3.10/dist-packages (from streamlit>=0.63->streamlit-option-menu) (3.20.3)\n",
            "Requirement already satisfied: pyarrow>=6.0 in /usr/local/lib/python3.10/dist-packages (from streamlit>=0.63->streamlit-option-menu) (10.0.1)\n",
            "Requirement already satisfied: python-dateutil<3,>=2.7.3 in /usr/local/lib/python3.10/dist-packages (from streamlit>=0.63->streamlit-option-menu) (2.8.2)\n",
            "Requirement already satisfied: requests<3,>=2.27 in /usr/local/lib/python3.10/dist-packages (from streamlit>=0.63->streamlit-option-menu) (2.31.0)\n",
            "Requirement already satisfied: rich<14,>=10.14.0 in /usr/local/lib/python3.10/dist-packages (from streamlit>=0.63->streamlit-option-menu) (13.7.0)\n",
            "Requirement already satisfied: tenacity<9,>=8.1.0 in /usr/local/lib/python3.10/dist-packages (from streamlit>=0.63->streamlit-option-menu) (8.2.3)\n",
            "Requirement already satisfied: toml<2,>=0.10.1 in /usr/local/lib/python3.10/dist-packages (from streamlit>=0.63->streamlit-option-menu) (0.10.2)\n",
            "Requirement already satisfied: typing-extensions<5,>=4.3.0 in /usr/local/lib/python3.10/dist-packages (from streamlit>=0.63->streamlit-option-menu) (4.5.0)\n",
            "Requirement already satisfied: tzlocal<6,>=1.1 in /usr/local/lib/python3.10/dist-packages (from streamlit>=0.63->streamlit-option-menu) (5.2)\n",
            "Requirement already satisfied: validators<1,>=0.2 in /usr/local/lib/python3.10/dist-packages (from streamlit>=0.63->streamlit-option-menu) (0.22.0)\n",
            "Requirement already satisfied: gitpython!=3.1.19,<4,>=3.0.7 in /usr/local/lib/python3.10/dist-packages (from streamlit>=0.63->streamlit-option-menu) (3.1.41)\n",
            "Requirement already satisfied: pydeck<1,>=0.8.0b4 in /usr/local/lib/python3.10/dist-packages (from streamlit>=0.63->streamlit-option-menu) (0.8.1b0)\n",
            "Requirement already satisfied: tornado<7,>=6.0.3 in /usr/local/lib/python3.10/dist-packages (from streamlit>=0.63->streamlit-option-menu) (6.3.2)\n",
            "Requirement already satisfied: watchdog>=2.1.5 in /usr/local/lib/python3.10/dist-packages (from streamlit>=0.63->streamlit-option-menu) (3.0.0)\n",
            "Requirement already satisfied: entrypoints in /usr/local/lib/python3.10/dist-packages (from altair<6,>=4.0->streamlit>=0.63->streamlit-option-menu) (0.4)\n",
            "Requirement already satisfied: jinja2 in /usr/local/lib/python3.10/dist-packages (from altair<6,>=4.0->streamlit>=0.63->streamlit-option-menu) (3.1.3)\n",
            "Requirement already satisfied: jsonschema>=3.0 in /usr/local/lib/python3.10/dist-packages (from altair<6,>=4.0->streamlit>=0.63->streamlit-option-menu) (4.19.2)\n",
            "Requirement already satisfied: toolz in /usr/local/lib/python3.10/dist-packages (from altair<6,>=4.0->streamlit>=0.63->streamlit-option-menu) (0.12.0)\n",
            "Requirement already satisfied: gitdb<5,>=4.0.1 in /usr/local/lib/python3.10/dist-packages (from gitpython!=3.1.19,<4,>=3.0.7->streamlit>=0.63->streamlit-option-menu) (4.0.11)\n",
            "Requirement already satisfied: zipp>=0.5 in /usr/local/lib/python3.10/dist-packages (from importlib-metadata<8,>=1.4->streamlit>=0.63->streamlit-option-menu) (3.17.0)\n",
            "Requirement already satisfied: pytz>=2020.1 in /usr/local/lib/python3.10/dist-packages (from pandas<3,>=1.3.0->streamlit>=0.63->streamlit-option-menu) (2023.3.post1)\n",
            "Requirement already satisfied: six>=1.5 in /usr/local/lib/python3.10/dist-packages (from python-dateutil<3,>=2.7.3->streamlit>=0.63->streamlit-option-menu) (1.16.0)\n",
            "Requirement already satisfied: charset-normalizer<4,>=2 in /usr/local/lib/python3.10/dist-packages (from requests<3,>=2.27->streamlit>=0.63->streamlit-option-menu) (3.3.2)\n",
            "Requirement already satisfied: idna<4,>=2.5 in /usr/local/lib/python3.10/dist-packages (from requests<3,>=2.27->streamlit>=0.63->streamlit-option-menu) (3.6)\n",
            "Requirement already satisfied: urllib3<3,>=1.21.1 in /usr/local/lib/python3.10/dist-packages (from requests<3,>=2.27->streamlit>=0.63->streamlit-option-menu) (2.0.7)\n",
            "Requirement already satisfied: certifi>=2017.4.17 in /usr/local/lib/python3.10/dist-packages (from requests<3,>=2.27->streamlit>=0.63->streamlit-option-menu) (2023.11.17)\n",
            "Requirement already satisfied: markdown-it-py>=2.2.0 in /usr/local/lib/python3.10/dist-packages (from rich<14,>=10.14.0->streamlit>=0.63->streamlit-option-menu) (3.0.0)\n",
            "Requirement already satisfied: pygments<3.0.0,>=2.13.0 in /usr/local/lib/python3.10/dist-packages (from rich<14,>=10.14.0->streamlit>=0.63->streamlit-option-menu) (2.16.1)\n",
            "Requirement already satisfied: smmap<6,>=3.0.1 in /usr/local/lib/python3.10/dist-packages (from gitdb<5,>=4.0.1->gitpython!=3.1.19,<4,>=3.0.7->streamlit>=0.63->streamlit-option-menu) (5.0.1)\n",
            "Requirement already satisfied: MarkupSafe>=2.0 in /usr/local/lib/python3.10/dist-packages (from jinja2->altair<6,>=4.0->streamlit>=0.63->streamlit-option-menu) (2.1.4)\n",
            "Requirement already satisfied: attrs>=22.2.0 in /usr/local/lib/python3.10/dist-packages (from jsonschema>=3.0->altair<6,>=4.0->streamlit>=0.63->streamlit-option-menu) (23.2.0)\n",
            "Requirement already satisfied: jsonschema-specifications>=2023.03.6 in /usr/local/lib/python3.10/dist-packages (from jsonschema>=3.0->altair<6,>=4.0->streamlit>=0.63->streamlit-option-menu) (2023.12.1)\n",
            "Requirement already satisfied: referencing>=0.28.4 in /usr/local/lib/python3.10/dist-packages (from jsonschema>=3.0->altair<6,>=4.0->streamlit>=0.63->streamlit-option-menu) (0.32.1)\n",
            "Requirement already satisfied: rpds-py>=0.7.1 in /usr/local/lib/python3.10/dist-packages (from jsonschema>=3.0->altair<6,>=4.0->streamlit>=0.63->streamlit-option-menu) (0.17.1)\n",
            "Requirement already satisfied: mdurl~=0.1 in /usr/local/lib/python3.10/dist-packages (from markdown-it-py>=2.2.0->rich<14,>=10.14.0->streamlit>=0.63->streamlit-option-menu) (0.1.2)\n",
            "Installing collected packages: streamlit-option-menu\n",
            "Successfully installed streamlit-option-menu-0.3.12\n"
          ]
        }
      ],
      "source": [
        "pip install streamlit-option-menu"
      ]
    },
    {
      "cell_type": "code",
      "execution_count": null,
      "metadata": {
        "colab": {
          "base_uri": "https://localhost:8080/"
        },
        "id": "rysO1dg4mr0r",
        "outputId": "635eaac4-c25f-4b03-c1f0-6ac3eaa01dc3"
      },
      "outputs": [
        {
          "output_type": "stream",
          "name": "stdout",
          "text": [
            "Collecting gtts\n",
            "  Downloading gTTS-2.5.0-py3-none-any.whl (29 kB)\n",
            "Requirement already satisfied: requests<3,>=2.27 in /usr/local/lib/python3.10/dist-packages (from gtts) (2.31.0)\n",
            "Requirement already satisfied: click<8.2,>=7.1 in /usr/local/lib/python3.10/dist-packages (from gtts) (8.1.7)\n",
            "Requirement already satisfied: charset-normalizer<4,>=2 in /usr/local/lib/python3.10/dist-packages (from requests<3,>=2.27->gtts) (3.3.2)\n",
            "Requirement already satisfied: idna<4,>=2.5 in /usr/local/lib/python3.10/dist-packages (from requests<3,>=2.27->gtts) (3.6)\n",
            "Requirement already satisfied: urllib3<3,>=1.21.1 in /usr/local/lib/python3.10/dist-packages (from requests<3,>=2.27->gtts) (2.0.7)\n",
            "Requirement already satisfied: certifi>=2017.4.17 in /usr/local/lib/python3.10/dist-packages (from requests<3,>=2.27->gtts) (2023.11.17)\n",
            "Installing collected packages: gtts\n",
            "Successfully installed gtts-2.5.0\n"
          ]
        }
      ],
      "source": [
        "pip install gtts"
      ]
    },
    {
      "cell_type": "markdown",
      "metadata": {
        "id": "JXEOBS-cXTgJ"
      },
      "source": []
    },
    {
      "cell_type": "code",
      "execution_count": null,
      "metadata": {
        "colab": {
          "base_uri": "https://localhost:8080/"
        },
        "id": "RJCgLMBuiwTL",
        "outputId": "bd281eba-f00e-4682-a064-f051bf2529ce"
      },
      "outputs": [
        {
          "output_type": "stream",
          "name": "stdout",
          "text": [
            "34.143.144.62\n"
          ]
        }
      ],
      "source": [
        "!wget -q -O - ipv4.icanhazip.com\n"
      ]
    },
    {
      "cell_type": "code",
      "execution_count": null,
      "metadata": {
        "colab": {
          "base_uri": "https://localhost:8080/"
        },
        "id": "yXmGUpSmRKWe",
        "outputId": "59c0eb17-4511-4c0a-8dcd-142da2fff6dd"
      },
      "outputs": [
        {
          "output_type": "stream",
          "name": "stdout",
          "text": [
            "Collecting pypdf\n",
            "  Downloading pypdf-4.0.0-py3-none-any.whl (283 kB)\n",
            "\u001b[?25l     \u001b[90m━━━━━━━━━━━━━━━━━━━━━━━━━━━━━━━━━━━━━━━━\u001b[0m \u001b[32m0.0/283.9 kB\u001b[0m \u001b[31m?\u001b[0m eta \u001b[36m-:--:--\u001b[0m\r\u001b[2K     \u001b[91m━━━━━━━━\u001b[0m\u001b[91m╸\u001b[0m\u001b[90m━━━━━━━━━━━━━━━━━━━━━━━━━━━━━━━\u001b[0m \u001b[32m61.4/283.9 kB\u001b[0m \u001b[31m1.6 MB/s\u001b[0m eta \u001b[36m0:00:01\u001b[0m\r\u001b[2K     \u001b[90m━━━━━━━━━━━━━━━━━━━━━━━━━━━━━━━━━━━━━━━━\u001b[0m \u001b[32m283.9/283.9 kB\u001b[0m \u001b[31m4.2 MB/s\u001b[0m eta \u001b[36m0:00:00\u001b[0m\n",
            "\u001b[?25hInstalling collected packages: pypdf\n",
            "Successfully installed pypdf-4.0.0\n"
          ]
        }
      ],
      "source": [
        "pip install pypdf"
      ]
    },
    {
      "cell_type": "code",
      "source": [
        "pip install openai-whisper"
      ],
      "metadata": {
        "colab": {
          "base_uri": "https://localhost:8080/"
        },
        "id": "9STWbdCwlkpt",
        "outputId": "0260e3d8-9040-4748-e9e7-920238ce1692"
      },
      "execution_count": null,
      "outputs": [
        {
          "output_type": "stream",
          "name": "stdout",
          "text": [
            "Collecting openai-whisper\n",
            "  Downloading openai-whisper-20231117.tar.gz (798 kB)\n",
            "\u001b[?25l     \u001b[90m━━━━━━━━━━━━━━━━━━━━━━━━━━━━━━━━━━━━━━━━\u001b[0m \u001b[32m0.0/798.6 kB\u001b[0m \u001b[31m?\u001b[0m eta \u001b[36m-:--:--\u001b[0m\r\u001b[2K     \u001b[91m━━━━━━━━━━━━━━━\u001b[0m\u001b[91m╸\u001b[0m\u001b[90m━━━━━━━━━━━━━━━━━━━━━━━━\u001b[0m \u001b[32m317.4/798.6 kB\u001b[0m \u001b[31m9.4 MB/s\u001b[0m eta \u001b[36m0:00:01\u001b[0m\r\u001b[2K     \u001b[90m━━━━━━━━━━━━━━━━━━━━━━━━━━━━━━━━━━━━━━━━\u001b[0m \u001b[32m798.6/798.6 kB\u001b[0m \u001b[31m12.9 MB/s\u001b[0m eta \u001b[36m0:00:00\u001b[0m\n",
            "\u001b[?25h  Installing build dependencies ... \u001b[?25l\u001b[?25hdone\n",
            "  Getting requirements to build wheel ... \u001b[?25l\u001b[?25hdone\n",
            "  Preparing metadata (pyproject.toml) ... \u001b[?25l\u001b[?25hdone\n",
            "Requirement already satisfied: triton<3,>=2.0.0 in /usr/local/lib/python3.10/dist-packages (from openai-whisper) (2.1.0)\n",
            "Requirement already satisfied: numba in /usr/local/lib/python3.10/dist-packages (from openai-whisper) (0.58.1)\n",
            "Requirement already satisfied: numpy in /usr/local/lib/python3.10/dist-packages (from openai-whisper) (1.23.5)\n",
            "Requirement already satisfied: torch in /usr/local/lib/python3.10/dist-packages (from openai-whisper) (2.1.0+cu121)\n",
            "Requirement already satisfied: tqdm in /usr/local/lib/python3.10/dist-packages (from openai-whisper) (4.66.1)\n",
            "Requirement already satisfied: more-itertools in /usr/local/lib/python3.10/dist-packages (from openai-whisper) (10.1.0)\n",
            "Collecting tiktoken (from openai-whisper)\n",
            "  Downloading tiktoken-0.5.2-cp310-cp310-manylinux_2_17_x86_64.manylinux2014_x86_64.whl (2.0 MB)\n",
            "\u001b[2K     \u001b[90m━━━━━━━━━━━━━━━━━━━━━━━━━━━━━━━━━━━━━━━━\u001b[0m \u001b[32m2.0/2.0 MB\u001b[0m \u001b[31m41.4 MB/s\u001b[0m eta \u001b[36m0:00:00\u001b[0m\n",
            "\u001b[?25hRequirement already satisfied: filelock in /usr/local/lib/python3.10/dist-packages (from triton<3,>=2.0.0->openai-whisper) (3.13.1)\n",
            "Requirement already satisfied: llvmlite<0.42,>=0.41.0dev0 in /usr/local/lib/python3.10/dist-packages (from numba->openai-whisper) (0.41.1)\n",
            "Requirement already satisfied: regex>=2022.1.18 in /usr/local/lib/python3.10/dist-packages (from tiktoken->openai-whisper) (2023.6.3)\n",
            "Requirement already satisfied: requests>=2.26.0 in /usr/local/lib/python3.10/dist-packages (from tiktoken->openai-whisper) (2.31.0)\n",
            "Requirement already satisfied: typing-extensions in /usr/local/lib/python3.10/dist-packages (from torch->openai-whisper) (4.5.0)\n",
            "Requirement already satisfied: sympy in /usr/local/lib/python3.10/dist-packages (from torch->openai-whisper) (1.12)\n",
            "Requirement already satisfied: networkx in /usr/local/lib/python3.10/dist-packages (from torch->openai-whisper) (3.2.1)\n",
            "Requirement already satisfied: jinja2 in /usr/local/lib/python3.10/dist-packages (from torch->openai-whisper) (3.1.3)\n",
            "Requirement already satisfied: fsspec in /usr/local/lib/python3.10/dist-packages (from torch->openai-whisper) (2023.6.0)\n",
            "Requirement already satisfied: charset-normalizer<4,>=2 in /usr/local/lib/python3.10/dist-packages (from requests>=2.26.0->tiktoken->openai-whisper) (3.3.2)\n",
            "Requirement already satisfied: idna<4,>=2.5 in /usr/local/lib/python3.10/dist-packages (from requests>=2.26.0->tiktoken->openai-whisper) (3.6)\n",
            "Requirement already satisfied: urllib3<3,>=1.21.1 in /usr/local/lib/python3.10/dist-packages (from requests>=2.26.0->tiktoken->openai-whisper) (2.0.7)\n",
            "Requirement already satisfied: certifi>=2017.4.17 in /usr/local/lib/python3.10/dist-packages (from requests>=2.26.0->tiktoken->openai-whisper) (2023.11.17)\n",
            "Requirement already satisfied: MarkupSafe>=2.0 in /usr/local/lib/python3.10/dist-packages (from jinja2->torch->openai-whisper) (2.1.4)\n",
            "Requirement already satisfied: mpmath>=0.19 in /usr/local/lib/python3.10/dist-packages (from sympy->torch->openai-whisper) (1.3.0)\n",
            "Building wheels for collected packages: openai-whisper\n",
            "  Building wheel for openai-whisper (pyproject.toml) ... \u001b[?25l\u001b[?25hdone\n",
            "  Created wheel for openai-whisper: filename=openai_whisper-20231117-py3-none-any.whl size=801356 sha256=dd66e0e19c33df8d65085072a6b75db6bd74a9fec31286f240a3df382e5f8192\n",
            "  Stored in directory: /root/.cache/pip/wheels/d0/85/e1/9361b4cbea7dd4b7f6702fa4c3afc94877952eeb2b62f45f56\n",
            "Successfully built openai-whisper\n",
            "Installing collected packages: tiktoken, openai-whisper\n",
            "\u001b[31mERROR: pip's dependency resolver does not currently take into account all the packages that are installed. This behaviour is the source of the following dependency conflicts.\n",
            "llmx 0.0.15a0 requires cohere, which is not installed.\n",
            "llmx 0.0.15a0 requires openai, which is not installed.\u001b[0m\u001b[31m\n",
            "\u001b[0mSuccessfully installed openai-whisper-20231117 tiktoken-0.5.2\n"
          ]
        }
      ]
    },
    {
      "cell_type": "code",
      "source": [
        "pip install python-dotenv"
      ],
      "metadata": {
        "id": "FhBk5CZxlzzY",
        "colab": {
          "base_uri": "https://localhost:8080/"
        },
        "outputId": "fd94a39a-dd0d-4a1e-ac18-be19f5d98ec0"
      },
      "execution_count": null,
      "outputs": [
        {
          "output_type": "stream",
          "name": "stdout",
          "text": [
            "Collecting python-dotenv\n",
            "  Downloading python_dotenv-1.0.1-py3-none-any.whl.metadata (23 kB)\n",
            "Downloading python_dotenv-1.0.1-py3-none-any.whl (19 kB)\n",
            "Installing collected packages: python-dotenv\n",
            "Successfully installed python-dotenv-1.0.1\n",
            "\u001b[33mWARNING: Running pip as the 'root' user can result in broken permissions and conflicting behaviour with the system package manager. It is recommended to use a virtual environment instead: https://pip.pypa.io/warnings/venv\u001b[0m\u001b[33m\n",
            "\u001b[0m"
          ]
        }
      ]
    },
    {
      "cell_type": "code",
      "source": [],
      "metadata": {
        "id": "tZ0Nb7l4hWjw"
      },
      "execution_count": null,
      "outputs": []
    },
    {
      "cell_type": "code",
      "execution_count": null,
      "metadata": {
        "id": "GaX15TEp3SCe",
        "colab": {
          "base_uri": "https://localhost:8080/"
        },
        "outputId": "0c92ef10-cd64-465d-b49c-e573623ab2b5"
      },
      "outputs": [
        {
          "output_type": "stream",
          "name": "stdout",
          "text": [
            "\u001b[?25l     \u001b[90m━━━━━━━━━━━━━━━━━━━━━━━━━━━━━━━━━━━━━━━━\u001b[0m \u001b[32m0.0/2.1 MB\u001b[0m \u001b[31m?\u001b[0m eta \u001b[36m-:--:--\u001b[0m\r\u001b[2K     \u001b[91m━\u001b[0m\u001b[91m╸\u001b[0m\u001b[90m━━━━━━━━━━━━━━━━━━━━━━━━━━━━━━━━━━━━━━\u001b[0m \u001b[32m0.1/2.1 MB\u001b[0m \u001b[31m2.6 MB/s\u001b[0m eta \u001b[36m0:00:01\u001b[0m\r\u001b[2K     \u001b[91m━━━━━━━━━━━━━━━━━━━\u001b[0m\u001b[91m╸\u001b[0m\u001b[90m━━━━━━━━━━━━━━━━━━━━\u001b[0m \u001b[32m1.0/2.1 MB\u001b[0m \u001b[31m17.3 MB/s\u001b[0m eta \u001b[36m0:00:01\u001b[0m\r\u001b[2K     \u001b[91m━━━━━━━━━━━━━━━━━━━━━━━━━━━━━━━━━━━━━━━\u001b[0m\u001b[91m╸\u001b[0m \u001b[32m2.1/2.1 MB\u001b[0m \u001b[31m24.9 MB/s\u001b[0m eta \u001b[36m0:00:01\u001b[0m\r\u001b[2K     \u001b[90m━━━━━━━━━━━━━━━━━━━━━━━━━━━━━━━━━━━━━━━━\u001b[0m \u001b[32m2.1/2.1 MB\u001b[0m \u001b[31m19.7 MB/s\u001b[0m eta \u001b[36m0:00:00\u001b[0m\n",
            "\u001b[?25h  Installing build dependencies ... \u001b[?25l\u001b[?25hdone\n",
            "  Getting requirements to build wheel ... \u001b[?25l\u001b[?25hdone\n",
            "  Preparing metadata (pyproject.toml) ... \u001b[?25l\u001b[?25hdone\n",
            "\u001b[2K   \u001b[90m━━━━━━━━━━━━━━━━━━━━━━━━━━━━━━━━━━━━━━━━\u001b[0m \u001b[32m115.3/115.3 kB\u001b[0m \u001b[31m3.3 MB/s\u001b[0m eta \u001b[36m0:00:00\u001b[0m\n",
            "\u001b[2K   \u001b[90m━━━━━━━━━━━━━━━━━━━━━━━━━━━━━━━━━━━━━━━━\u001b[0m \u001b[32m507.1/507.1 kB\u001b[0m \u001b[31m18.5 MB/s\u001b[0m eta \u001b[36m0:00:00\u001b[0m\n",
            "\u001b[2K   \u001b[90m━━━━━━━━━━━━━━━━━━━━━━━━━━━━━━━━━━━━━━━━\u001b[0m \u001b[32m134.8/134.8 kB\u001b[0m \u001b[31m11.0 MB/s\u001b[0m eta \u001b[36m0:00:00\u001b[0m\n",
            "\u001b[?25h  Building wheel for transformers (pyproject.toml) ... \u001b[?25l\u001b[?25hdone\n",
            "\u001b[33mWARNING: Running pip as the 'root' user can result in broken permissions and conflicting behaviour with the system package manager. It is recommended to use a virtual environment instead: https://pip.pypa.io/warnings/venv\u001b[0m\u001b[33m\n",
            "\u001b[2K     \u001b[90m━━━━━━━━━━━━━━━━━━━━━━━━━━━━━━━━━━━━━━━━\u001b[0m \u001b[32m2.5/2.5 MB\u001b[0m \u001b[31m26.6 MB/s\u001b[0m eta \u001b[36m0:00:00\u001b[0m\n",
            "\u001b[?25h  Preparing metadata (setup.py) ... \u001b[?25l\u001b[?25hdone\n",
            "\u001b[2K   \u001b[90m━━━━━━━━━━━━━━━━━━━━━━━━━━━━━━━━━━━━━━━━\u001b[0m \u001b[32m44.6/44.6 kB\u001b[0m \u001b[31m3.1 MB/s\u001b[0m eta \u001b[36m0:00:00\u001b[0m\n",
            "\u001b[2K   \u001b[90m━━━━━━━━━━━━━━━━━━━━━━━━━━━━━━━━━━━━━━━━\u001b[0m \u001b[32m307.2/307.2 kB\u001b[0m \u001b[31m20.8 MB/s\u001b[0m eta \u001b[36m0:00:00\u001b[0m\n",
            "\u001b[?25h  Building wheel for flash-attn (setup.py) ... \u001b[?25l\u001b[?25hdone\n",
            "\u001b[33mWARNING: Running pip as the 'root' user can result in broken permissions and conflicting behaviour with the system package manager. It is recommended to use a virtual environment instead: https://pip.pypa.io/warnings/venv\u001b[0m\u001b[33m\n",
            "\u001b[0m"
          ]
        }
      ],
      "source": [
        "!pip install --q --upgrade pip\n",
        "!pip install --q --upgrade git+https://github.com/huggingface/transformers.git accelerate datasets[audio]\n",
        "!pip install --q flash-attn --no-build-isolation"
      ]
    },
    {
      "cell_type": "code",
      "execution_count": null,
      "metadata": {
        "id": "nq00pYoLjKy0",
        "colab": {
          "base_uri": "https://localhost:8080/"
        },
        "outputId": "f2e60d0b-0427-4512-e28a-c145af520604"
      },
      "outputs": [
        {
          "output_type": "stream",
          "name": "stdout",
          "text": [
            "[..................] / rollbackFailedOptional: verb npm-session 1515d4da721d5ac\u001b[0m\u001b[K\n",
            "Collecting usage statistics. To deactivate, set browser.gatherUsageStats to False.\n",
            "\u001b[0m\n",
            "\u001b[0m\n",
            "\u001b[34m\u001b[1m  You can now view your Streamlit app in your browser.\u001b[0m\n",
            "\u001b[0m\n",
            "\u001b[34m  Network URL: \u001b[0m\u001b[1mhttp://172.28.0.12:8501\u001b[0m\n",
            "\u001b[34m  External URL: \u001b[0m\u001b[1mhttp://34.143.144.62:8501\u001b[0m\n",
            "\u001b[0m\n",
            "\u001b[K\u001b[?25hnpx: installed 22 in 2.294s\n",
            "your url is: https://solid-pears-invent.loca.lt\n",
            "2024-01-28 14:32:35.341434: E external/local_xla/xla/stream_executor/cuda/cuda_dnn.cc:9261] Unable to register cuDNN factory: Attempting to register factory for plugin cuDNN when one has already been registered\n",
            "2024-01-28 14:32:35.341503: E external/local_xla/xla/stream_executor/cuda/cuda_fft.cc:607] Unable to register cuFFT factory: Attempting to register factory for plugin cuFFT when one has already been registered\n",
            "2024-01-28 14:32:35.343190: E external/local_xla/xla/stream_executor/cuda/cuda_blas.cc:1515] Unable to register cuBLAS factory: Attempting to register factory for plugin cuBLAS when one has already been registered\n",
            "2024-01-28 14:32:36.594730: W tensorflow/compiler/tf2tensorrt/utils/py_utils.cc:38] TF-TRT Warning: Could not find TensorRT\n",
            "/usr/local/lib/python3.10/dist-packages/langchain/document_loaders/__init__.py:36: LangChainDeprecationWarning: Importing document loaders from langchain is deprecated. Importing from langchain will no longer be supported as of langchain==0.2.0. Please import from langchain-community instead:\n",
            "\n",
            "`from langchain_community.document_loaders import PyPDFLoader`.\n",
            "\n",
            "To install langchain-community run `pip install -U langchain-community`.\n",
            "  warnings.warn(\n",
            "/usr/local/lib/python3.10/dist-packages/langchain/document_loaders/__init__.py:36: LangChainDeprecationWarning: Importing document loaders from langchain is deprecated. Importing from langchain will no longer be supported as of langchain==0.2.0. Please import from langchain-community instead:\n",
            "\n",
            "`from langchain_community.document_loaders import DirectoryLoader`.\n",
            "\n",
            "To install langchain-community run `pip install -U langchain-community`.\n",
            "  warnings.warn(\n",
            "config.json: 100% 1.27k/1.27k [00:00<00:00, 5.85MB/s]\n",
            "model.safetensors: 100% 3.09G/3.09G [00:24<00:00, 125MB/s]\n",
            "generation_config.json: 100% 3.94k/3.94k [00:00<00:00, 19.1MB/s]\n",
            "preprocessor_config.json: 100% 340/340 [00:00<00:00, 1.82MB/s]\n",
            "tokenizer_config.json: 100% 283k/283k [00:00<00:00, 578kB/s]\n",
            "vocab.json: 100% 1.04M/1.04M [00:00<00:00, 1.41MB/s]\n",
            "tokenizer.json: 100% 2.48M/2.48M [00:01<00:00, 1.75MB/s]\n",
            "merges.txt: 100% 494k/494k [00:00<00:00, 674kB/s]\n",
            "normalizer.json: 100% 52.7k/52.7k [00:00<00:00, 226kB/s]\n",
            "added_tokens.json: 100% 34.6k/34.6k [00:00<00:00, 73.7MB/s]\n",
            "special_tokens_map.json: 100% 2.07k/2.07k [00:00<00:00, 9.02MB/s]\n",
            "Special tokens have been added in the vocabulary, make sure the associated word embeddings are fine-tuned or trained.\n",
            "/usr/local/lib/python3.10/dist-packages/torch/_utils.py:831: UserWarning: TypedStorage is deprecated. It will be removed in the future and UntypedStorage will be the only storage class. This should only matter to you if you are using storages directly.  To access UntypedStorage directly, use tensor.untyped_storage() instead of tensor.storage()\n",
            "  return self.fget.__get__(instance, owner)()\n",
            "Special tokens have been added in the vocabulary, make sure the associated word embeddings are fine-tuned or trained.\n",
            "2024-01-28 14:59:08.170 Uncaught app exception\n",
            "Traceback (most recent call last):\n",
            "  File \"/usr/local/lib/python3.10/dist-packages/streamlit/runtime/scriptrunner/script_runner.py\", line 535, in _run_script\n",
            "    exec(code, module.__dict__)\n",
            "  File \"/content/app.py\", line 188, in <module>\n",
            "    main()\n",
            "  File \"/content/app.py\", line 183, in main\n",
            "    summary = text_preprocessing(str(transcribed_audio), summary_length)\n",
            "  File \"/content/app.py\", line 42, in text_preprocessing\n",
            "    summary_ids = model_base.generate(\n",
            "  File \"/usr/local/lib/python3.10/dist-packages/torch/utils/_contextlib.py\", line 115, in decorate_context\n",
            "    return func(*args, **kwargs)\n",
            "  File \"/usr/local/lib/python3.10/dist-packages/transformers/generation/utils.py\", line 1558, in generate\n",
            "    return self.beam_search(\n",
            "  File \"/usr/local/lib/python3.10/dist-packages/transformers/generation/utils.py\", line 2951, in beam_search\n",
            "    outputs = self(\n",
            "  File \"/usr/local/lib/python3.10/dist-packages/torch/nn/modules/module.py\", line 1518, in _wrapped_call_impl\n",
            "    return self._call_impl(*args, **kwargs)\n",
            "  File \"/usr/local/lib/python3.10/dist-packages/torch/nn/modules/module.py\", line 1527, in _call_impl\n",
            "    return forward_call(*args, **kwargs)\n",
            "  File \"/usr/local/lib/python3.10/dist-packages/transformers/models/t5/modeling_t5.py\", line 1743, in forward\n",
            "    decoder_outputs = self.decoder(\n",
            "  File \"/usr/local/lib/python3.10/dist-packages/torch/nn/modules/module.py\", line 1518, in _wrapped_call_impl\n",
            "    return self._call_impl(*args, **kwargs)\n",
            "  File \"/usr/local/lib/python3.10/dist-packages/torch/nn/modules/module.py\", line 1527, in _call_impl\n",
            "    return forward_call(*args, **kwargs)\n",
            "  File \"/usr/local/lib/python3.10/dist-packages/transformers/models/t5/modeling_t5.py\", line 1110, in forward\n",
            "    layer_outputs = layer_module(\n",
            "  File \"/usr/local/lib/python3.10/dist-packages/torch/nn/modules/module.py\", line 1518, in _wrapped_call_impl\n",
            "    return self._call_impl(*args, **kwargs)\n",
            "  File \"/usr/local/lib/python3.10/dist-packages/torch/nn/modules/module.py\", line 1527, in _call_impl\n",
            "    return forward_call(*args, **kwargs)\n",
            "  File \"/usr/local/lib/python3.10/dist-packages/transformers/models/t5/modeling_t5.py\", line 694, in forward\n",
            "    self_attention_outputs = self.layer[0](\n",
            "  File \"/usr/local/lib/python3.10/dist-packages/torch/nn/modules/module.py\", line 1518, in _wrapped_call_impl\n",
            "    return self._call_impl(*args, **kwargs)\n",
            "  File \"/usr/local/lib/python3.10/dist-packages/torch/nn/modules/module.py\", line 1527, in _call_impl\n",
            "    return forward_call(*args, **kwargs)\n",
            "  File \"/usr/local/lib/python3.10/dist-packages/transformers/models/t5/modeling_t5.py\", line 601, in forward\n",
            "    attention_output = self.SelfAttention(\n",
            "  File \"/usr/local/lib/python3.10/dist-packages/torch/nn/modules/module.py\", line 1518, in _wrapped_call_impl\n",
            "    return self._call_impl(*args, **kwargs)\n",
            "  File \"/usr/local/lib/python3.10/dist-packages/torch/nn/modules/module.py\", line 1527, in _call_impl\n",
            "    return forward_call(*args, **kwargs)\n",
            "  File \"/usr/local/lib/python3.10/dist-packages/transformers/models/t5/modeling_t5.py\", line 520, in forward\n",
            "    query_states = shape(self.q(hidden_states))  # (batch_size, n_heads, seq_length, dim_per_head)\n",
            "  File \"/usr/local/lib/python3.10/dist-packages/torch/nn/modules/module.py\", line 1518, in _wrapped_call_impl\n",
            "    return self._call_impl(*args, **kwargs)\n",
            "  File \"/usr/local/lib/python3.10/dist-packages/torch/nn/modules/module.py\", line 1527, in _call_impl\n",
            "    return forward_call(*args, **kwargs)\n",
            "  File \"/usr/local/lib/python3.10/dist-packages/torch/nn/modules/linear.py\", line 114, in forward\n",
            "    return F.linear(input, self.weight, self.bias)\n",
            "RuntimeError: expected mat1 and mat2 to have the same dtype, but got: float != c10::Half\n",
            "/usr/local/lib/python3.10/dist-packages/langchain/document_loaders/__init__.py:36: LangChainDeprecationWarning: Importing document loaders from langchain is deprecated. Importing from langchain will no longer be supported as of langchain==0.2.0. Please import from langchain-community instead:\n",
            "\n",
            "`from langchain_community.document_loaders import PyPDFLoader`.\n",
            "\n",
            "To install langchain-community run `pip install -U langchain-community`.\n",
            "  warnings.warn(\n",
            "/usr/local/lib/python3.10/dist-packages/langchain/document_loaders/__init__.py:36: LangChainDeprecationWarning: Importing document loaders from langchain is deprecated. Importing from langchain will no longer be supported as of langchain==0.2.0. Please import from langchain-community instead:\n",
            "\n",
            "`from langchain_community.document_loaders import DirectoryLoader`.\n",
            "\n",
            "To install langchain-community run `pip install -U langchain-community`.\n",
            "  warnings.warn(\n",
            "Special tokens have been added in the vocabulary, make sure the associated word embeddings are fine-tuned or trained.\n",
            "/usr/local/lib/python3.10/dist-packages/langchain/document_loaders/__init__.py:36: LangChainDeprecationWarning: Importing document loaders from langchain is deprecated. Importing from langchain will no longer be supported as of langchain==0.2.0. Please import from langchain-community instead:\n",
            "\n",
            "`from langchain_community.document_loaders import PyPDFLoader`.\n",
            "\n",
            "To install langchain-community run `pip install -U langchain-community`.\n",
            "  warnings.warn(\n",
            "/usr/local/lib/python3.10/dist-packages/langchain/document_loaders/__init__.py:36: LangChainDeprecationWarning: Importing document loaders from langchain is deprecated. Importing from langchain will no longer be supported as of langchain==0.2.0. Please import from langchain-community instead:\n",
            "\n",
            "`from langchain_community.document_loaders import DirectoryLoader`.\n",
            "\n",
            "To install langchain-community run `pip install -U langchain-community`.\n",
            "  warnings.warn(\n",
            "page_content='EUROSTEEL 2008, 3-5 Septem ber 2008, Graz, Austria \\nDESIGN OF Z-PURLINS: PART 2 \\nDesign methods given in Eurocode EN 1993-1-3 \\nGerald Luza a, Jörgen Robra b \\na austroSteel, Graz, Austria' metadata={'source': '/content/drive/MyDrive/document150_luza(0).pdf', 'page': 0}\n",
            "page_content='a austroSteel, Graz, Austria \\nb Zeman & Co, Vienna, Austria \\nINTRODUCTION \\nThe scope of part 1-3 of EN 1993 also known as Eu rocode 3 is the design of cold-formed members' metadata={'source': '/content/drive/MyDrive/document150_luza(0).pdf', 'page': 0}\n",
            "page_content='and sheetings. Depending on the complexity of roof s different methods to design Z-purlins are \\ngiven in this standard.' metadata={'source': '/content/drive/MyDrive/document150_luza(0).pdf', 'page': 0}\n",
            "page_content='given in this standard. \\nThe paper at hand contains an overview of possibl e methods, the workflow and the effects of the' metadata={'source': '/content/drive/MyDrive/document150_luza(0).pdf', 'page': 0}\n",
            "page_content='advanced method in detail. Required are the cross section properties for the gross cross section and \\nthe effective cross sections as described in part 1. \\n1  FIELD OF APPLICATION: METHODS' metadata={'source': '/content/drive/MyDrive/document150_luza(0).pdf', 'page': 0}\n",
            "page_content='1  FIELD OF APPLICATION: METHODS \\nThe general design concept is given by chapter 6. Special rules for purlins are subject of chapter 10 \\nand Annex E. Purlins can be designed by:' metadata={'source': '/content/drive/MyDrive/document150_luza(0).pdf', 'page': 0}\n",
            "page_content='and Annex E. Purlins can be designed by: \\n• Simplified Method (annex E) \\n• Basic Method (10.1.3 ff) \\n• Advanced Method using 2nd order analysis (10.1.2 (1) +(6) and 10.1.3)' metadata={'source': '/content/drive/MyDrive/document150_luza(0).pdf', 'page': 0}\n",
            "page_content='• Design by testing according to Annex A. \\nTable 1.  Design methods given in EN 1993-1-3 and their limits \\nchapter remarks \\nmoments \\nvertical force \\nnormal force \\nspans \\naction \\nanti sagging \\nbars' metadata={'source': '/content/drive/MyDrive/document150_luza(0).pdf', 'page': 0}\n",
            "page_content='normal force \\nspans \\naction \\nanti sagging \\nbars \\nsleeve/over-\\nlapping joint \\nthickness of \\npurlins (EI)2 \\nAnnex E using \\nfactors  no – constantuniform \\nloading – – constant' metadata={'source': '/content/drive/MyDrive/document150_luza(0).pdf', 'page': 0}\n",
            "page_content='loading – – constant\\n10.1.3   yes no constant (variable) up to 4 yes 1 constant\\n10.1.2 + 2nd order \\nanalysis about \\nboth axes yes yes variable (variable) yes yes 1 variable' metadata={'source': '/content/drive/MyDrive/document150_luza(0).pdf', 'page': 0}\n",
            "page_content='Annex A testing – not treated here \\n1 test of (flexural) stiffness of sleeve or overlap necessary \\n2 end spans thicker purlins' metadata={'source': '/content/drive/MyDrive/document150_luza(0).pdf', 'page': 0}\n",
            "page_content='2 end spans thicker purlins \\n Due to the limits for the simplified and the basi c method, the necessity of the advanced method is' metadata={'source': '/content/drive/MyDrive/document150_luza(0).pdf', 'page': 0}\n",
            "page_content='obvious. For longer roofs we need to overlap or sl eeve purlins, for longer sp ans the requirement of' metadata={'source': '/content/drive/MyDrive/document150_luza(0).pdf', 'page': 0}\n",
            "page_content='anti-sagging bars is evident. If the end spans are shorter or the thickness of  the end span purlins are \\nchosen thicker only the advanced method based upon 2\\nnd order analysis is possible.' metadata={'source': '/content/drive/MyDrive/document150_luza(0).pdf', 'page': 0}\n",
            "page_content='nd order analysis is possible. \\nThe advanced method only can handle unequal uniforml y distributed loads for each span. Even this' metadata={'source': '/content/drive/MyDrive/document150_luza(0).pdf', 'page': 0}\n",
            "page_content='method has its limit: For example concentrated lo ads resulting from roof trimmers are not \\nimplicated due to the determination procedure of kh.' metadata={'source': '/content/drive/MyDrive/document150_luza(0).pdf', 'page': 0}\n",
            "page_content='2  STRUCTURAL SYSTEM \\nIn difference to the standard check of sections about major and minor axis, the check for Z-purlins' metadata={'source': '/content/drive/MyDrive/document150_luza(0).pdf', 'page': 1}\n",
            "page_content='will be done about the axis paralle l to the roof and perpendicular using an additional loading acting \\nabout the major axis of the free flange.' metadata={'source': '/content/drive/MyDrive/document150_luza(0).pdf', 'page': 1}\n",
            "page_content='about the major axis of the free flange. \\n \\n \\nFig. 1.   Supports for free flange by purlins and anti-sagging bars. \\nexamples: two-span purlin, thr ee span purlin without / with' metadata={'source': '/content/drive/MyDrive/document150_luza(0).pdf', 'page': 1}\n",
            "page_content='one / with two /with three anti-sagging bars Fig. 2.  Orientation of Z-purlins\\n \\n3  CHECK OF PURLIN \\nNormal stress resulting from normal force and bendi ng about two axis can be determined about any' metadata={'source': '/content/drive/MyDrive/document150_luza(0).pdf', 'page': 1}\n",
            "page_content='pair of perpendicular axes in general as follows: \\n ( )( )\\n2() () () ()\\n()yz zy z zy yy z\\nx\\nyz y zMxI MxI z MxI MxI y NxAI I Iσ⋅− ⋅ ⋅ − ⋅− ⋅ ⋅\\n=+⋅−. (1)' metadata={'source': '/content/drive/MyDrive/document150_luza(0).pdf', 'page': 1}\n",
            "page_content='=+⋅−. (1) \\nIf the moments are calculated about the major (1 -1) and the minor (2-2) axes the stress can be \\ndetermined in the well known format: \\n () ()()y z\\nx\\nyzMxz Mxy NxAI Iσ⋅ ⋅=+ −  (2)' metadata={'source': '/content/drive/MyDrive/document150_luza(0).pdf', 'page': 1}\n",
            "page_content='() ()()y z\\nx\\nyzMxz Mxy NxAI Iσ⋅ ⋅=+ −  (2) \\n \\n top flange laterally held \\n \\nmoments about y-axis moments about z-axis  numbers 1 to 4:    points to check' metadata={'source': '/content/drive/MyDrive/document150_luza(0).pdf', 'page': 1}\n",
            "page_content='bottom flange supported by spring stiffness K \\nFig. 3.   Model for actions, check method and spring stiffness Fig. 4.   Major and minor axis' metadata={'source': '/content/drive/MyDrive/document150_luza(0).pdf', 'page': 1}\n",
            "page_content='The method chosen to do the check according to EC 3-1-3 for Z-purlins is to determine the stress' metadata={'source': '/content/drive/MyDrive/document150_luza(0).pdf', 'page': 1}\n",
            "page_content='using the bending about the sheeting parallel y-axis plus an additional load acting in y-direction in' metadata={'source': '/content/drive/MyDrive/document150_luza(0).pdf', 'page': 1}\n",
            "page_content='the axis of the free flange.  For this check the first step is to  get this additional load for the fr ee flange of the Z-purlins acting on' metadata={'source': '/content/drive/MyDrive/document150_luza(0).pdf', 'page': 1}\n",
            "page_content='the roof-parallel y-axis using formula (10.4) of EC3-1-3: 3 1 2 \\n4 2 \\n1 \\n2 1' metadata={'source': '/content/drive/MyDrive/document150_luza(0).pdf', 'page': 1}\n",
            "page_content=',hE d h E dqk q =⋅ (3) \\nwhere q uniformly distributed load [ kN/m ] \\nkh factor \\nBecause kh is depending on the direction of the load (uplift or downwards) the sum of all loads has \\nto be considered:' metadata={'source': '/content/drive/MyDrive/document150_luza(0).pdf', 'page': 2}\n",
            "page_content='to be considered: \\n ,, , ,ii\\nj h Ed h i Ed h i i i Ekqk q k q γψ =⋅ =⋅ ⋅⋅∑∑  (4) \\nwhere ψ combination factor \\nγ partial safety factor  \\nj load combination j with i load cases' metadata={'source': '/content/drive/MyDrive/document150_luza(0).pdf', 'page': 2}\n",
            "page_content='j load combination j with i load cases   \\nThis means that load cases cannot be super-pos itioned for the action about the y-axis. This is' metadata={'source': '/content/drive/MyDrive/document150_luza(0).pdf', 'page': 2}\n",
            "page_content='analogue to the approach for second order analysis . Due to the achieved moments about the y-axis \\nthe free flange gets a variable normal force over the span. \\nGravity loading\\n(compression' metadata={'source': '/content/drive/MyDrive/document150_luza(0).pdf', 'page': 2}\n",
            "page_content='Gravity loading\\n(compression \\nin connection \\nsheeting – purlin) \\n+ +NEd NEd\\nhqEd\\nqEdkh b\\neez2 z1h/5\\n,,\\nmax,\\n,yE d f zE d y Ed\\nEd\\neff y eff fz MM Mf N\\nWA Wσγ=+ + ≤  \\nUplift loading' metadata={'source': '/content/drive/MyDrive/document150_luza(0).pdf', 'page': 2}\n",
            "page_content='WA Wσγ=+ + ≤  \\nUplift loading \\n(tension in connection \\nsheeting – purlin)\\nFig. 5.  Super-position of primary and secondary action Fig. 6.   Loading direction' metadata={'source': '/content/drive/MyDrive/document150_luza(0).pdf', 'page': 2}\n",
            "page_content='The value of kh depends on the shape of the cross sect ion and the direction of the action: \\n  \\n    \\n  \\n0 hhkk=  0 hha kkh=−  0 hhfkkh=−  ( )22\\n022\\n4h\\nyht b bc bc h\\nkI⋅⋅ + ⋅ ⋅ − ⋅ ⋅\\n=⋅; 0yz s\\nh' metadata={'source': '/content/drive/MyDrive/document150_luza(0).pdf', 'page': 2}\n",
            "page_content='022\\n4h\\nyht b bc bc h\\nkI⋅⋅ + ⋅ ⋅ − ⋅ ⋅\\n=⋅; 0yz s\\nh\\nyIgkIh= ⋅\\nFig. 7.  Determination of kh: load direction a nd point of action' metadata={'source': '/content/drive/MyDrive/document150_luza(0).pdf', 'page': 2}\n",
            "page_content='For the basic and the advanced method the following checks have to be done: \\nMy, N: (10.3a) ,\\nmax,\\n,yE d y Ed\\nEd\\neff y eff MM f N\\nWAσγ=+ ≤ , (5) \\nfree flange My, Mz, N: (10.3b) ,,\\nmax,' metadata={'source': '/content/drive/MyDrive/document150_luza(0).pdf', 'page': 2}\n",
            "page_content='free flange My, Mz, N: (10.3b) ,,\\nmax,\\n,yE d f zE d y Ed\\nEd\\neff y eff fz MM Mf N\\nWA Wσγ=+ + ≤ , (6)' metadata={'source': '/content/drive/MyDrive/document150_luza(0).pdf', 'page': 2}\n",
            "page_content='combined M, N, V:  (6.27) 2\\n,,\\n,, ,211 1yE d f R d Ed Ed\\nRd y Rd pl Rd w RdMM NV\\nNM M V⎛⎞ ⎛⎞⋅++ − ⋅ − ≤ ⎜⎟ ⎜⎟⎜⎟ ⎜⎟⎝⎠ ⎝⎠. (7)' metadata={'source': '/content/drive/MyDrive/document150_luza(0).pdf', 'page': 3}\n",
            "page_content='NM M V⎛⎞ ⎛⎞⋅++ − ⋅ − ≤ ⎜⎟ ⎜⎟⎜⎟ ⎜⎟⎝⎠ ⎝⎠. (7) \\nFor the basic method lateral torsional buckling (10.7) has to be fulfilled: \\n ,,\\n,11 yE d f zR d y b Ed\\nLT eff y eff fz MM Mf N\\nWA W f χ⎛⎞' metadata={'source': '/content/drive/MyDrive/document150_luza(0).pdf', 'page': 3}\n",
            "page_content='LT eff y eff fz MM Mf N\\nWA W f χ⎛⎞\\n⋅+ + ≤⎜⎟⎜⎟⎝⎠. (8) \\nAlthough the free flange gets additional action by kh qEd the supported upper flange is held by the' metadata={'source': '/content/drive/MyDrive/document150_luza(0).pdf', 'page': 3}\n",
            "page_content='trapezoidal sheet and therefore gets no additional stress. For these checks always the according effective cross-section values have to be taken except for the section modulus of the free flange W' metadata={'source': '/content/drive/MyDrive/document150_luza(0).pdf', 'page': 3}\n",
            "page_content='fz. \\n4  SPRING STIFFNESS \\nRequirement for all design methods is to determine the spring stiffness by which the free flange is' metadata={'source': '/content/drive/MyDrive/document150_luza(0).pdf', 'page': 3}\n",
            "page_content='supported. Determination of lateral spring stiffne ss is a product of the rotational stiffness coming' metadata={'source': '/content/drive/MyDrive/document150_luza(0).pdf', 'page': 3}\n",
            "page_content='from the local bending of the web, the stiffness of roof sheeting and the stiffness of fasteners \\nsheeting/purlin.  \\n4.1   Rotational spring stiffness of Z-purlins' metadata={'source': '/content/drive/MyDrive/document150_luza(0).pdf', 'page': 3}\n",
            "page_content='4.1   Rotational spring stiffness of Z-purlins \\nTherefore the rotational stiffness has to be determined first: \\n \\n,,1\\n11D\\nDA DCc\\ncc=⎛⎞+ ⎜⎟⎝⎠ (9)' metadata={'source': '/content/drive/MyDrive/document150_luza(0).pdf', 'page': 3}\n",
            "page_content=',,1\\n11D\\nDA DCc\\ncc=⎛⎞+ ⎜⎟⎝⎠ (9) \\nwhere cD rotational spring stiffne ss per unit length [kNm/m] \\ncD,A rotational spring stiffness of  connection sheeting / purlin' metadata={'source': '/content/drive/MyDrive/document150_luza(0).pdf', 'page': 3}\n",
            "page_content='cD,C rotational spring stiffness corresponding to the flexural  stiffness of the sheeting \\n , 100DAb a t b R A b Tcc k k k k k=⋅ ⋅ ⋅ ⋅ ⋅  (10)' metadata={'source': '/content/drive/MyDrive/document150_luza(0).pdf', 'page': 3}\n",
            "page_content='where c100 rotational coefficient for trapezoida l sheeting (table 10.3 of EC3-1-3) \\nkba width factor of purlin flange \\nkt thickness factor (constant values , linear between given limits)' metadata={'source': '/content/drive/MyDrive/document150_luza(0).pdf', 'page': 3}\n",
            "page_content='kbR corrugation width f actor of sheeting  \\nkA supporting force factor (from sheeting to purlin) \\nkbT connection factor \\n ,eff\\nDCkEIcs⋅⋅=  (11) \\nwhere k structural system coefficient of sheeting' metadata={'source': '/content/drive/MyDrive/document150_luza(0).pdf', 'page': 3}\n",
            "page_content='E modulus of elastic ity (Young’s modulus) \\nIeff effective moment of inertia per unit width of the sheeting \\ns span of the sheeting \\n4.2   Spring stiffness per unit length of the free flange' metadata={'source': '/content/drive/MyDrive/document150_luza(0).pdf', 'page': 3}\n",
            "page_content='Having gotten the rotational spring stiffness, the la teral spring stiffness for the support of the free \\nflange can be evaluated as follows: \\n 22 2\\n34( 1 ) ( )1 dm o d\\nDhhb h' metadata={'source': '/content/drive/MyDrive/document150_luza(0).pdf', 'page': 3}\n",
            "page_content='22 2\\n34( 1 ) ( )1 dm o d\\nDhhb h\\nK Et cν⋅− ⋅ ⋅ +=+⋅ (12) \\nwhere K lateral spring stiffness per unit length \\nν restraint coefficient \\nh overall height of the purlin' metadata={'source': '/content/drive/MyDrive/document150_luza(0).pdf', 'page': 3}\n",
            "page_content='a distance from sheet to purlin fastener to the purlin web \\nb width of the purlin flange  connected to the sheeting \\nbmod distance depending on uplift or downwards actions' metadata={'source': '/content/drive/MyDrive/document150_luza(0).pdf', 'page': 4}\n",
            "page_content='hd developed height of the purlin web \\n5  FREE FLANGE \\nWith the section properties and the spring stiffness a ll necessary internal forces can be calculated:  \\nnormal force in free flange' metadata={'source': '/content/drive/MyDrive/document150_luza(0).pdf', 'page': 4}\n",
            "page_content='normal force in free flange \\n-40-30-20-1001020304050\\n0 6 12 18\\nFig. 8.  Moments of load cases about y-axis Fig. 9.  Normal force in free flange resulting from \\nnormal force and bending about y-axis' metadata={'source': '/content/drive/MyDrive/document150_luza(0).pdf', 'page': 4}\n",
            "page_content='normal force and bending about y-axis \\n5.1   Imperfections \\nFor impair spans we get symmetrical equivalent im perfections. For pair spans or pair spans between' metadata={'source': '/content/drive/MyDrive/document150_luza(0).pdf', 'page': 4}\n",
            "page_content='ant-sagging bars the result is an unsymmetri cal equivalent imperfection. This results in \\nunsymmetrical moments. \\nFig. 10.  Imperfection for free flange of a three' metadata={'source': '/content/drive/MyDrive/document150_luza(0).pdf', 'page': 4}\n",
            "page_content='span continuous girder purlin Fig. 11.  Three span continuous girder purlin with \\none anti-sagging bar per span \\n5.2  First order analysis' metadata={'source': '/content/drive/MyDrive/document150_luza(0).pdf', 'page': 4}\n",
            "page_content='5.2  First order analysis \\nFig. 12.  Moments: no anti-sagging bars Fig. 13.  Moments: one anti-sagging bar per span moments about y-axis\\n of load cases-6\\n-4\\n-2\\n02\\n4\\n606 1 2 1 8\\n06 1 2 1 8 06 1 2 1 8' metadata={'source': '/content/drive/MyDrive/document150_luza(0).pdf', 'page': 4}\n",
            "page_content='-4\\n-2\\n02\\n4\\n606 1 2 1 8\\n06 1 2 1 8 06 1 2 1 8\\nmoments of free flange [kNm]-0.75\\n-0.50\\n-0.25\\n0.00\\n0.25\\n0.500 6 12 18moments of free flange [kNm]-0.25\\n-0.15\\n-0.05\\n0.05\\n0.150 6 12 18' metadata={'source': '/content/drive/MyDrive/document150_luza(0).pdf', 'page': 4}\n",
            "page_content='5.3 Second order analysis \\nSecond order analysis with variable compression (or tension) parts as well as unsymmetrical \\nimperfections lead to peculia r moment graphs (see fig. 14 and 15).' metadata={'source': '/content/drive/MyDrive/document150_luza(0).pdf', 'page': 5}\n",
            "page_content='Fig. 14.  Moments of free flange about z-axis: no \\nanti-sagging bars, second order analysis Fig. 15.  Moments of free flange about z-axis: one \\nanti-sagging bar per span, second order analysis' metadata={'source': '/content/drive/MyDrive/document150_luza(0).pdf', 'page': 5}\n",
            "page_content='anti-sagging bar per span, second order analysis \\n6  ADDITIONAL REMARKS \\n6.1  Strengthening of end sp ans by thickness increase' metadata={'source': '/content/drive/MyDrive/document150_luza(0).pdf', 'page': 5}\n",
            "page_content='Continuous girder system have the disadvantage of greater sagging moments in the end spans.' metadata={'source': '/content/drive/MyDrive/document150_luza(0).pdf', 'page': 5}\n",
            "page_content='Resulting demand is to strengthen the end span by shorten them or to use thicker purlins. Shorter spans means that the modular grid is discontinue d which is not possible in many cases. For proper' metadata={'source': '/content/drive/MyDrive/document150_luza(0).pdf', 'page': 5}\n",
            "page_content='developed purlins it is possible to combin e purlins with small thickness differences. \\n6.2  Sleeves and Overlaps' metadata={'source': '/content/drive/MyDrive/document150_luza(0).pdf', 'page': 5}\n",
            "page_content='6.2  Sleeves and Overlaps \\nOne and two span girders are normally done by one  purlin only. Continuous girder purlins will be' metadata={'source': '/content/drive/MyDrive/document150_luza(0).pdf', 'page': 5}\n",
            "page_content='joined by overlapping or sleeves. Overlapping purlins are done by al ternating positive and negative \\npositions of unsymmetrical Z-shapes. \\nREFERENCES' metadata={'source': '/content/drive/MyDrive/document150_luza(0).pdf', 'page': 5}\n",
            "page_content='positions of unsymmetrical Z-shapes. \\nREFERENCES \\n[1] CEN, EN 1993-1-3 Eurocode 3 - Design of st eel structures - Part 1-3: General rules -' metadata={'source': '/content/drive/MyDrive/document150_luza(0).pdf', 'page': 5}\n",
            "page_content='Supplementary rules for cold-formed members and sheeting , 2006-10 \\n[2] Deutscher Ausschuss für Stahlbau: DASt- Ri. 016 – Bemessung und konstruktive Gestaltung' metadata={'source': '/content/drive/MyDrive/document150_luza(0).pdf', 'page': 5}\n",
            "page_content='von Tragwerken aus dünnwandigen kaltgeformten Bauteilen, 1988. \\n[3] Stark, J.W.B.; Toma, A.W.: New Design Method for Cold- Formed Purlins. Der Metallbau im' metadata={'source': '/content/drive/MyDrive/document150_luza(0).pdf', 'page': 5}\n",
            "page_content='konstruktiven Ingenieurbau (Festschrift R. Baehre), Karlsruhe (1988), pp.267-280. \\n[4] Thomasson, P.O.: On the Behaviour of Cold- Fo rmed Steel Purlins – Particularly with Respect' metadata={'source': '/content/drive/MyDrive/document150_luza(0).pdf', 'page': 5}\n",
            "page_content='to Cross Section Distortion. De r Metallbau im konstruktiven I ngenieurbau (Festschrift R. \\nBaehre), Karlsruhe (1988), pp.281-292.' metadata={'source': '/content/drive/MyDrive/document150_luza(0).pdf', 'page': 5}\n",
            "page_content='Baehre), Karlsruhe (1988), pp.281-292. \\n[5] Sokol, L.: Specific Aspects of  the Design of Purlins in Z-Sections. Der Metallbau im' metadata={'source': '/content/drive/MyDrive/document150_luza(0).pdf', 'page': 5}\n",
            "page_content='konstruktiven Ingenieurbau (Festschrift R. Baehre), Karlsruhe (1988), pp.341-358. \\n[6] Lindner, J.: Restraint of beam s by trapezoidally sheet ing using different types of connection.' metadata={'source': '/content/drive/MyDrive/document150_luza(0).pdf', 'page': 5}\n",
            "page_content='Stability and ductility of stee l structures, (1998), pp.27-36. moments of free flange [kNm]-0.35\\n-0.25\\n-0.15\\n-0.05\\n0.05\\n0.15\\n0.250 6 12 18moments of free flange [kNm]-0.25\\n-0.15\\n-0.05\\n0.05\\n0.15' metadata={'source': '/content/drive/MyDrive/document150_luza(0).pdf', 'page': 5}\n",
            "page_content='-0.15\\n-0.05\\n0.05\\n0.15\\n0.250 6 12 18' metadata={'source': '/content/drive/MyDrive/document150_luza(0).pdf', 'page': 5}\n",
            "Token indices sequence length is longer than the specified maximum sequence length for this model (3926 > 512). Running this sequence through the model will result in indexing errors\n",
            "/usr/local/lib/python3.10/dist-packages/langchain/document_loaders/__init__.py:36: LangChainDeprecationWarning: Importing document loaders from langchain is deprecated. Importing from langchain will no longer be supported as of langchain==0.2.0. Please import from langchain-community instead:\n",
            "\n",
            "`from langchain_community.document_loaders import PyPDFLoader`.\n",
            "\n",
            "To install langchain-community run `pip install -U langchain-community`.\n",
            "  warnings.warn(\n",
            "/usr/local/lib/python3.10/dist-packages/langchain/document_loaders/__init__.py:36: LangChainDeprecationWarning: Importing document loaders from langchain is deprecated. Importing from langchain will no longer be supported as of langchain==0.2.0. Please import from langchain-community instead:\n",
            "\n",
            "`from langchain_community.document_loaders import DirectoryLoader`.\n",
            "\n",
            "To install langchain-community run `pip install -U langchain-community`.\n",
            "  warnings.warn(\n",
            "Special tokens have been added in the vocabulary, make sure the associated word embeddings are fine-tuned or trained.\n",
            "Special tokens have been added in the vocabulary, make sure the associated word embeddings are fine-tuned or trained.\n",
            "2024-01-28 15:56:40.302 Uncaught app exception\n",
            "Traceback (most recent call last):\n",
            "  File \"/usr/local/lib/python3.10/dist-packages/streamlit/runtime/scriptrunner/script_runner.py\", line 535, in _run_script\n",
            "    exec(code, module.__dict__)\n",
            "  File \"/content/app.py\", line 188, in <module>\n",
            "    main()\n",
            "  File \"/content/app.py\", line 163, in main\n",
            "    transcribed_audio = audio_transcription(filepath)\n",
            "  File \"/content/multiM.py\", line 18, in audio_transcription\n",
            "    pipe = pipeline(\n",
            "  File \"/usr/local/lib/python3.10/dist-packages/transformers/pipelines/__init__.py\", line 1071, in pipeline\n",
            "    return pipeline_class(model=model, framework=framework, task=task, **kwargs)\n",
            "  File \"/usr/local/lib/python3.10/dist-packages/transformers/pipelines/automatic_speech_recognition.py\", line 227, in __init__\n",
            "    super().__init__(model, tokenizer, feature_extractor, device=device, torch_dtype=torch_dtype, **kwargs)\n",
            "  File \"/usr/local/lib/python3.10/dist-packages/transformers/pipelines/base.py\", line 852, in __init__\n",
            "    self._preprocess_params, self._forward_params, self._postprocess_params = self._sanitize_parameters(**kwargs)\n",
            "TypeError: AutomaticSpeechRecognitionPipeline._sanitize_parameters() got an unexpected keyword argument 'chunk_lengths'\n",
            "Special tokens have been added in the vocabulary, make sure the associated word embeddings are fine-tuned or trained.\n",
            "\u001b[34m  Stopping...\u001b[0m\n",
            "^C\n"
          ]
        }
      ],
      "source": [
        "! streamlit run '/content/app.py' & npx localtunnel --port 8501"
      ]
    }
  ],
  "metadata": {
    "accelerator": "GPU",
    "colab": {
      "provenance": []
    },
    "kernelspec": {
      "display_name": "Python 3",
      "name": "python3"
    },
    "language_info": {
      "name": "python"
    }
  },
  "nbformat": 4,
  "nbformat_minor": 0
}